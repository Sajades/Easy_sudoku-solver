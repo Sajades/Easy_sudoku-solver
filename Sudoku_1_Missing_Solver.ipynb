{
 "cells": [
  {
   "cell_type": "code",
   "execution_count": 2,
   "id": "adb95dc4-ec5a-47db-8960-08baf94d32e0",
   "metadata": {},
   "outputs": [],
   "source": [
    "import pandas as pd\n",
    "import numpy as np\n",
    "from tensorflow.keras import layers,models\n",
    "from sklearn.model_selection import train_test_split\n",
    "from sklearn.metrics import confusion_matrix, classification_report, accuracy_score\n",
    "import matplotlib.pyplot as plt\n",
    "import seaborn as sns"
   ]
  },
  {
   "cell_type": "code",
   "execution_count": 3,
   "id": "6864b36f-c1ed-41c4-aac6-4c95bd03451d",
   "metadata": {},
   "outputs": [
    {
     "data": {
      "text/html": [
       "<div>\n",
       "<style scoped>\n",
       "    .dataframe tbody tr th:only-of-type {\n",
       "        vertical-align: middle;\n",
       "    }\n",
       "\n",
       "    .dataframe tbody tr th {\n",
       "        vertical-align: top;\n",
       "    }\n",
       "\n",
       "    .dataframe thead th {\n",
       "        text-align: right;\n",
       "    }\n",
       "</style>\n",
       "<table border=\"1\" class=\"dataframe\">\n",
       "  <thead>\n",
       "    <tr style=\"text-align: right;\">\n",
       "      <th></th>\n",
       "      <th>x0</th>\n",
       "      <th>x1</th>\n",
       "      <th>x2</th>\n",
       "      <th>x3</th>\n",
       "      <th>x4</th>\n",
       "      <th>x5</th>\n",
       "      <th>x6</th>\n",
       "      <th>x7</th>\n",
       "      <th>x8</th>\n",
       "      <th>x9</th>\n",
       "      <th>...</th>\n",
       "      <th>x71</th>\n",
       "      <th>x72</th>\n",
       "      <th>x73</th>\n",
       "      <th>x74</th>\n",
       "      <th>x75</th>\n",
       "      <th>x76</th>\n",
       "      <th>x77</th>\n",
       "      <th>x78</th>\n",
       "      <th>x79</th>\n",
       "      <th>x80</th>\n",
       "    </tr>\n",
       "  </thead>\n",
       "  <tbody>\n",
       "    <tr>\n",
       "      <th>0</th>\n",
       "      <td>8</td>\n",
       "      <td>6</td>\n",
       "      <td>4</td>\n",
       "      <td>3</td>\n",
       "      <td>7</td>\n",
       "      <td>1</td>\n",
       "      <td>2</td>\n",
       "      <td>5</td>\n",
       "      <td>9</td>\n",
       "      <td>3</td>\n",
       "      <td>...</td>\n",
       "      <td>4</td>\n",
       "      <td>5</td>\n",
       "      <td>4</td>\n",
       "      <td>2</td>\n",
       "      <td>9</td>\n",
       "      <td>1</td>\n",
       "      <td>6</td>\n",
       "      <td>3</td>\n",
       "      <td>7</td>\n",
       "      <td>8</td>\n",
       "    </tr>\n",
       "    <tr>\n",
       "      <th>1</th>\n",
       "      <td>3</td>\n",
       "      <td>4</td>\n",
       "      <td>6</td>\n",
       "      <td>1</td>\n",
       "      <td>7</td>\n",
       "      <td>9</td>\n",
       "      <td>2</td>\n",
       "      <td>5</td>\n",
       "      <td>8</td>\n",
       "      <td>1</td>\n",
       "      <td>...</td>\n",
       "      <td>2</td>\n",
       "      <td>2</td>\n",
       "      <td>5</td>\n",
       "      <td>4</td>\n",
       "      <td>3</td>\n",
       "      <td>9</td>\n",
       "      <td>7</td>\n",
       "      <td>1</td>\n",
       "      <td>8</td>\n",
       "      <td>6</td>\n",
       "    </tr>\n",
       "    <tr>\n",
       "      <th>2</th>\n",
       "      <td>6</td>\n",
       "      <td>9</td>\n",
       "      <td>5</td>\n",
       "      <td>1</td>\n",
       "      <td>2</td>\n",
       "      <td>7</td>\n",
       "      <td>3</td>\n",
       "      <td>8</td>\n",
       "      <td>4</td>\n",
       "      <td>1</td>\n",
       "      <td>...</td>\n",
       "      <td>3</td>\n",
       "      <td>5</td>\n",
       "      <td>6</td>\n",
       "      <td>2</td>\n",
       "      <td>3</td>\n",
       "      <td>4</td>\n",
       "      <td>8</td>\n",
       "      <td>1</td>\n",
       "      <td>9</td>\n",
       "      <td>7</td>\n",
       "    </tr>\n",
       "    <tr>\n",
       "      <th>3</th>\n",
       "      <td>4</td>\n",
       "      <td>9</td>\n",
       "      <td>7</td>\n",
       "      <td>2</td>\n",
       "      <td>5</td>\n",
       "      <td>8</td>\n",
       "      <td>3</td>\n",
       "      <td>1</td>\n",
       "      <td>6</td>\n",
       "      <td>1</td>\n",
       "      <td>...</td>\n",
       "      <td>4</td>\n",
       "      <td>5</td>\n",
       "      <td>3</td>\n",
       "      <td>4</td>\n",
       "      <td>8</td>\n",
       "      <td>9</td>\n",
       "      <td>7</td>\n",
       "      <td>2</td>\n",
       "      <td>6</td>\n",
       "      <td>1</td>\n",
       "    </tr>\n",
       "    <tr>\n",
       "      <th>4</th>\n",
       "      <td>4</td>\n",
       "      <td>6</td>\n",
       "      <td>5</td>\n",
       "      <td>9</td>\n",
       "      <td>1</td>\n",
       "      <td>2</td>\n",
       "      <td>3</td>\n",
       "      <td>7</td>\n",
       "      <td>8</td>\n",
       "      <td>1</td>\n",
       "      <td>...</td>\n",
       "      <td>3</td>\n",
       "      <td>8</td>\n",
       "      <td>9</td>\n",
       "      <td>1</td>\n",
       "      <td>7</td>\n",
       "      <td>3</td>\n",
       "      <td>6</td>\n",
       "      <td>4</td>\n",
       "      <td>2</td>\n",
       "      <td>5</td>\n",
       "    </tr>\n",
       "  </tbody>\n",
       "</table>\n",
       "<p>5 rows × 81 columns</p>\n",
       "</div>"
      ],
      "text/plain": [
       "   x0  x1  x2  x3  x4  x5  x6  x7  x8  x9  ...  x71  x72  x73  x74  x75  x76  \\\n",
       "0   8   6   4   3   7   1   2   5   9   3  ...    4    5    4    2    9    1   \n",
       "1   3   4   6   1   7   9   2   5   8   1  ...    2    2    5    4    3    9   \n",
       "2   6   9   5   1   2   7   3   8   4   1  ...    3    5    6    2    3    4   \n",
       "3   4   9   7   2   5   8   3   1   6   1  ...    4    5    3    4    8    9   \n",
       "4   4   6   5   9   1   2   3   7   8   1  ...    3    8    9    1    7    3   \n",
       "\n",
       "   x77  x78  x79  x80  \n",
       "0    6    3    7    8  \n",
       "1    7    1    8    6  \n",
       "2    8    1    9    7  \n",
       "3    7    2    6    1  \n",
       "4    6    4    2    5  \n",
       "\n",
       "[5 rows x 81 columns]"
      ]
     },
     "execution_count": 3,
     "metadata": {},
     "output_type": "execute_result"
    }
   ],
   "source": [
    "# -----------------------------\n",
    "# Load data\n",
    "# -----------------------------\n",
    "file_path = 'C:/Users/sajad/Desktop/sudoku/split_digits.csv'\n",
    "df = pd.read_csv(file_path)\n",
    "df.head()"
   ]
  },
  {
   "cell_type": "code",
   "execution_count": 23,
   "id": "93b070ac-b463-4034-8854-45d816db7f42",
   "metadata": {},
   "outputs": [],
   "source": [
    "# # randomly select one clumn index for each record\n",
    "# replace_col = np.random.choice(df.shape[1],size=len(df))\n",
    "\n",
    "# # Randomly select one column to replace the value with zero and save the replaced value in 'y' column\n",
    "# for i, col_idx in enumerate(replace_col):\n",
    "#     df.at[i, 'y'] = df.iat[i, col_idx]\n",
    "#     df.iat[i, col_idx] = 0\n",
    "\n",
    "# df.to_csv('C:/Users/sajad/Desktop/sudoku/sudoku_1_missing_y.csv')"
   ]
  },
  {
   "cell_type": "code",
   "execution_count": 24,
   "id": "a5a3e705-8ab0-4503-ad4c-cd21aae49660",
   "metadata": {},
   "outputs": [
    {
     "data": {
      "text/html": [
       "<div>\n",
       "<style scoped>\n",
       "    .dataframe tbody tr th:only-of-type {\n",
       "        vertical-align: middle;\n",
       "    }\n",
       "\n",
       "    .dataframe tbody tr th {\n",
       "        vertical-align: top;\n",
       "    }\n",
       "\n",
       "    .dataframe thead th {\n",
       "        text-align: right;\n",
       "    }\n",
       "</style>\n",
       "<table border=\"1\" class=\"dataframe\">\n",
       "  <thead>\n",
       "    <tr style=\"text-align: right;\">\n",
       "      <th></th>\n",
       "      <th>x0</th>\n",
       "      <th>x1</th>\n",
       "      <th>x2</th>\n",
       "      <th>x3</th>\n",
       "      <th>x4</th>\n",
       "      <th>x5</th>\n",
       "      <th>x6</th>\n",
       "      <th>x7</th>\n",
       "      <th>x8</th>\n",
       "      <th>x9</th>\n",
       "      <th>...</th>\n",
       "      <th>x72</th>\n",
       "      <th>x73</th>\n",
       "      <th>x74</th>\n",
       "      <th>x75</th>\n",
       "      <th>x76</th>\n",
       "      <th>x77</th>\n",
       "      <th>x78</th>\n",
       "      <th>x79</th>\n",
       "      <th>x80</th>\n",
       "      <th>y</th>\n",
       "    </tr>\n",
       "  </thead>\n",
       "  <tbody>\n",
       "    <tr>\n",
       "      <th>0</th>\n",
       "      <td>8</td>\n",
       "      <td>6</td>\n",
       "      <td>4</td>\n",
       "      <td>3</td>\n",
       "      <td>7</td>\n",
       "      <td>1</td>\n",
       "      <td>2</td>\n",
       "      <td>5</td>\n",
       "      <td>9</td>\n",
       "      <td>3</td>\n",
       "      <td>...</td>\n",
       "      <td>5</td>\n",
       "      <td>4</td>\n",
       "      <td>2</td>\n",
       "      <td>9</td>\n",
       "      <td>1</td>\n",
       "      <td>6</td>\n",
       "      <td>3</td>\n",
       "      <td>7</td>\n",
       "      <td>8</td>\n",
       "      <td>2.0</td>\n",
       "    </tr>\n",
       "    <tr>\n",
       "      <th>1</th>\n",
       "      <td>3</td>\n",
       "      <td>4</td>\n",
       "      <td>6</td>\n",
       "      <td>1</td>\n",
       "      <td>7</td>\n",
       "      <td>9</td>\n",
       "      <td>2</td>\n",
       "      <td>5</td>\n",
       "      <td>8</td>\n",
       "      <td>1</td>\n",
       "      <td>...</td>\n",
       "      <td>2</td>\n",
       "      <td>5</td>\n",
       "      <td>4</td>\n",
       "      <td>3</td>\n",
       "      <td>9</td>\n",
       "      <td>7</td>\n",
       "      <td>1</td>\n",
       "      <td>8</td>\n",
       "      <td>6</td>\n",
       "      <td>1.0</td>\n",
       "    </tr>\n",
       "    <tr>\n",
       "      <th>2</th>\n",
       "      <td>6</td>\n",
       "      <td>9</td>\n",
       "      <td>5</td>\n",
       "      <td>1</td>\n",
       "      <td>2</td>\n",
       "      <td>7</td>\n",
       "      <td>3</td>\n",
       "      <td>8</td>\n",
       "      <td>4</td>\n",
       "      <td>1</td>\n",
       "      <td>...</td>\n",
       "      <td>5</td>\n",
       "      <td>6</td>\n",
       "      <td>2</td>\n",
       "      <td>3</td>\n",
       "      <td>4</td>\n",
       "      <td>8</td>\n",
       "      <td>1</td>\n",
       "      <td>9</td>\n",
       "      <td>7</td>\n",
       "      <td>9.0</td>\n",
       "    </tr>\n",
       "    <tr>\n",
       "      <th>3</th>\n",
       "      <td>4</td>\n",
       "      <td>9</td>\n",
       "      <td>7</td>\n",
       "      <td>2</td>\n",
       "      <td>5</td>\n",
       "      <td>8</td>\n",
       "      <td>3</td>\n",
       "      <td>1</td>\n",
       "      <td>6</td>\n",
       "      <td>1</td>\n",
       "      <td>...</td>\n",
       "      <td>5</td>\n",
       "      <td>3</td>\n",
       "      <td>4</td>\n",
       "      <td>8</td>\n",
       "      <td>9</td>\n",
       "      <td>7</td>\n",
       "      <td>2</td>\n",
       "      <td>6</td>\n",
       "      <td>1</td>\n",
       "      <td>2.0</td>\n",
       "    </tr>\n",
       "    <tr>\n",
       "      <th>4</th>\n",
       "      <td>4</td>\n",
       "      <td>6</td>\n",
       "      <td>5</td>\n",
       "      <td>9</td>\n",
       "      <td>1</td>\n",
       "      <td>2</td>\n",
       "      <td>3</td>\n",
       "      <td>7</td>\n",
       "      <td>8</td>\n",
       "      <td>1</td>\n",
       "      <td>...</td>\n",
       "      <td>8</td>\n",
       "      <td>9</td>\n",
       "      <td>1</td>\n",
       "      <td>7</td>\n",
       "      <td>3</td>\n",
       "      <td>6</td>\n",
       "      <td>4</td>\n",
       "      <td>2</td>\n",
       "      <td>5</td>\n",
       "      <td>1.0</td>\n",
       "    </tr>\n",
       "  </tbody>\n",
       "</table>\n",
       "<p>5 rows × 82 columns</p>\n",
       "</div>"
      ],
      "text/plain": [
       "   x0  x1  x2  x3  x4  x5  x6  x7  x8  x9  ...  x72  x73  x74  x75  x76  x77  \\\n",
       "0   8   6   4   3   7   1   2   5   9   3  ...    5    4    2    9    1    6   \n",
       "1   3   4   6   1   7   9   2   5   8   1  ...    2    5    4    3    9    7   \n",
       "2   6   9   5   1   2   7   3   8   4   1  ...    5    6    2    3    4    8   \n",
       "3   4   9   7   2   5   8   3   1   6   1  ...    5    3    4    8    9    7   \n",
       "4   4   6   5   9   1   2   3   7   8   1  ...    8    9    1    7    3    6   \n",
       "\n",
       "   x78  x79  x80    y  \n",
       "0    3    7    8  2.0  \n",
       "1    1    8    6  1.0  \n",
       "2    1    9    7  9.0  \n",
       "3    2    6    1  2.0  \n",
       "4    4    2    5  1.0  \n",
       "\n",
       "[5 rows x 82 columns]"
      ]
     },
     "execution_count": 24,
     "metadata": {},
     "output_type": "execute_result"
    }
   ],
   "source": [
    "df.head()"
   ]
  },
  {
   "cell_type": "code",
   "execution_count": 25,
   "id": "eaa7d48a-77b5-4ed9-9eae-f2131413110b",
   "metadata": {},
   "outputs": [],
   "source": [
    "# assign X features and y target values \n",
    "X = df[[f'x{i}' for i in range(81)]].values\n",
    "y = df['y'].values"
   ]
  },
  {
   "cell_type": "code",
   "execution_count": 29,
   "id": "9e52bfbc-559b-4794-8c3f-cb1385066a4e",
   "metadata": {},
   "outputs": [
    {
     "data": {
      "text/plain": [
       "(1000000, 81)"
      ]
     },
     "execution_count": 29,
     "metadata": {},
     "output_type": "execute_result"
    }
   ],
   "source": [
    "X.shape"
   ]
  },
  {
   "cell_type": "code",
   "execution_count": 28,
   "id": "7f429c8d-d4d5-48c4-a579-9648b8b6df22",
   "metadata": {},
   "outputs": [],
   "source": [
    "# as there are missing values among the x features we need to create one_hot mask for position of the missing value\n",
    "#missing values are market as 0 in df\n",
    "mask = (X==0).astype(int)  # when ever X is zero assing 1\n",
    "#mask[0,:]\n"
   ]
  },
  {
   "cell_type": "code",
   "execution_count": 31,
   "id": "9e2e6f44-56d5-4749-8aef-59962cc2249f",
   "metadata": {},
   "outputs": [
    {
     "data": {
      "text/plain": [
       "(1000000, 162)"
      ]
     },
     "execution_count": 31,
     "metadata": {},
     "output_type": "execute_result"
    }
   ],
   "source": [
    "# now we need to concatenate these mask data into our df \n",
    "# masking help the NN model to predict just the missing value\n",
    "x_masked = np.concatenate([X,mask] , axis = 1)\n",
    "x_masked.shape"
   ]
  },
  {
   "cell_type": "code",
   "execution_count": 33,
   "id": "e50b298c-51a9-461e-a753-2174f31a6ab6",
   "metadata": {},
   "outputs": [],
   "source": [
    "#---------------------------------\n",
    "# Train-test split\n",
    "#---------------------------------\n",
    "x_train, x_val, y_train, y_val = train_test_split(x_masked, y, test_size = 0.20 , random_state = 50)"
   ]
  },
  {
   "cell_type": "code",
   "execution_count": 36,
   "id": "3501e786-1936-43fc-a4e3-0fdf3a22eb06",
   "metadata": {},
   "outputs": [
    {
     "name": "stdout",
     "output_type": "stream",
     "text": [
      "x_train: (800000, 162)\n",
      "x_val: (200000, 162)\n",
      "y_train: (800000,)\n",
      "y_val: (200000,)\n"
     ]
    }
   ],
   "source": [
    "print('x_train:',x_train.shape) \n",
    "print('x_val:',x_val.shape) \n",
    "print('y_train:',y_train.shape) \n",
    "print('y_val:',y_val.shape)"
   ]
  },
  {
   "cell_type": "code",
   "execution_count": 51,
   "id": "fb793b5a-b156-4f8c-9bd9-f9a56192277c",
   "metadata": {},
   "outputs": [],
   "source": [
    "#---------------------------------\n",
    "# Build the model\n",
    "#---------------------------------\n",
    "number_of_classes = len(np.unique(y))\n",
    "model = models.Sequential([\n",
    "    layers.Input(shape = (x_train.shape[1],)),\n",
    "    layers.Dense(128, activation = 'relu'),\n",
    "    layers.Dense(number_of_classes,  activation = 'softmax')\n",
    "])"
   ]
  },
  {
   "cell_type": "code",
   "execution_count": 52,
   "id": "9b1ff9b9-bbdc-41e9-901f-d2990ab35a37",
   "metadata": {},
   "outputs": [],
   "source": [
    "model.compile ( optimizer = 'adam' , loss = 'sparse_categorical_crossentropy',metrics = ['accuracy'])"
   ]
  },
  {
   "cell_type": "code",
   "execution_count": 53,
   "id": "60b241cb-48bf-4278-87f8-b88f1c5202dc",
   "metadata": {},
   "outputs": [
    {
     "name": "stdout",
     "output_type": "stream",
     "text": [
      "Epoch 1/5\n",
      "3125/3125 [==============================] - 13s 4ms/step - loss: 2.2398 - accuracy: 0.1150 - val_loss: 2.1995 - val_accuracy: 0.1157\n",
      "Epoch 2/5\n",
      "3125/3125 [==============================] - 12s 4ms/step - loss: 1.9943 - accuracy: 0.2373 - val_loss: 1.6227 - val_accuracy: 0.4562\n",
      "Epoch 3/5\n",
      "3125/3125 [==============================] - 12s 4ms/step - loss: 1.3858 - accuracy: 0.6117 - val_loss: 1.1930 - val_accuracy: 0.7490\n",
      "Epoch 4/5\n",
      "3125/3125 [==============================] - 12s 4ms/step - loss: 1.0586 - accuracy: 0.8694 - val_loss: 0.9432 - val_accuracy: 0.9733\n",
      "Epoch 5/5\n",
      "3125/3125 [==============================] - 14s 4ms/step - loss: 0.8550 - accuracy: 0.9662 - val_loss: 0.7779 - val_accuracy: 0.9947\n"
     ]
    }
   ],
   "source": [
    "#---------------------------------\n",
    "# Train the model\n",
    "#---------------------------------\n",
    "history = model.fit(\n",
    "                    x_train , y_train - 1, #split labels to range 0-8\n",
    "                    epochs = 5 ,\n",
    "                    batch_size = 256,\n",
    "                    validation_data = (x_val, y_val -1)  \n",
    "                   )"
   ]
  },
  {
   "cell_type": "code",
   "execution_count": 54,
   "id": "0d3fbac0-8979-4ac7-91f8-f6c4ad0f7049",
   "metadata": {},
   "outputs": [
    {
     "name": "stdout",
     "output_type": "stream",
     "text": [
      "6250/6250 [==============================] - 11s 2ms/step\n",
      "\n",
      "accuracy result: 0.994655\n"
     ]
    }
   ],
   "source": [
    "#---------------------------------\n",
    "# Evaluate the model\n",
    "#---------------------------------\n",
    "y_pred_class_probability = model.predict(x_val)\n",
    "y_pred = np.argmax(y_pred_class_probability , axis =1 ) +1 # shift back to range 1-9\n",
    "# Accuuracy\n",
    "acc = accuracy_score(y_val,y_pred)\n",
    "print(f'\\naccuracy result: {acc}')"
   ]
  },
  {
   "cell_type": "code",
   "execution_count": 55,
   "id": "8c681986-ca0c-4f92-9cc5-39e66d6d19fa",
   "metadata": {},
   "outputs": [
    {
     "data": {
      "image/png": "[encoded data removed]",
      "text/plain": [
       "<Figure size 800x600 with 2 Axes>"
      ]
     },
     "metadata": {},
     "output_type": "display_data"
    }
   ],
   "source": [
    "#---------------------------------\n",
    "# Confusion matrix\n",
    "#---------------------------------\n",
    "Confusion = confusion_matrix(y_val,y_pred)\n",
    "plt.figure(figsize = (8,6))\n",
    "sns.heatmap(Confusion, annot = True, fmt = 'd',xticklabels=np.arange(1,10), yticklabels=np.arange(1,10))\n",
    "plt.xlabel('model prediction')\n",
    "plt.ylabel('true value')\n",
    "plt.title('Confusion Matrix')\n",
    "plt.show()"
   ]
  },
  {
   "cell_type": "code",
   "execution_count": 56,
   "id": "94ec1474-f942-4e49-a61b-b837a633afd0",
   "metadata": {},
   "outputs": [
    {
     "name": "stdout",
     "output_type": "stream",
     "text": [
      "              precision    recall  f1-score   support\n",
      "\n",
      "         1.0     0.9980    1.0000    0.9990     21962\n",
      "         2.0     1.0000    0.9981    0.9990     22118\n",
      "         3.0     0.9693    1.0000    0.9844     22402\n",
      "         4.0     1.0000    0.9680    0.9838     22207\n",
      "         5.0     0.9999    1.0000    1.0000     22401\n",
      "         6.0     1.0000    0.9998    0.9999     22186\n",
      "         7.0     0.9999    1.0000    0.9999     22315\n",
      "         8.0     1.0000    0.9859    0.9929     21981\n",
      "         9.0     0.9864    1.0000    0.9931     22428\n",
      "\n",
      "    accuracy                         0.9947    200000\n",
      "   macro avg     0.9948    0.9946    0.9947    200000\n",
      "weighted avg     0.9948    0.9947    0.9947    200000\n",
      "\n"
     ]
    }
   ],
   "source": [
    "#classification report\n",
    "print(classification_report(y_val,y_pred,digits=4))"
   ]
  },
  {
   "cell_type": "code",
   "execution_count": 57,
   "id": "db2a14cd-bb23-45f3-9831-de7579c31e92",
   "metadata": {},
   "outputs": [],
   "source": [
    "#---------------------------------\n",
    "# check single input prediction\n",
    "#---------------------------------\n",
    "def single_value_check( x , y , idx):\n",
    "    input_x = np.array (x[idx]).reshape(-1,162)\n",
    "    result = np.argmax(model.predict(input_x),axis=1) +1 # shift back to range 1-9\n",
    "    print (f'y-lable {y[idx]}  Vs.',f'Predicted {result}')"
   ]
  },
  {
   "cell_type": "code",
   "execution_count": 60,
   "id": "6c10a0ca-a1b6-4ab0-a3cc-a0adcd19f9d7",
   "metadata": {},
   "outputs": [
    {
     "name": "stdout",
     "output_type": "stream",
     "text": [
      "1/1 [==============================] - 0s 46ms/step\n",
      "y-lable 7.0  Vs. Predicted [7]\n"
     ]
    }
   ],
   "source": [
    "single_value_check( x_val , y_val , idx=15)"
   ]
  },
  {
   "cell_type": "code",
   "execution_count": null,
   "id": "dddbc50f-2322-4fe1-98fc-94489176fc92",
   "metadata": {},
   "outputs": [],
   "source": []
  }
 ],
 "metadata": {
  "kernelspec": {
   "display_name": "Python 3 (ipykernel)",
   "language": "python",
   "name": "python3"
  },
  "language_info": {
   "codemirror_mode": {
    "name": "ipython",
    "version": 3
   },
   "file_extension": ".py",
   "mimetype": "text/x-python",
   "name": "python",
   "nbconvert_exporter": "python",
   "pygments_lexer": "ipython3",
   "version": "3.9.18"
  }
 },
 "nbformat": 4,
 "nbformat_minor": 5
}
